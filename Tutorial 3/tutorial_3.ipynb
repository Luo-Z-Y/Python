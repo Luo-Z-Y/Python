{
 "cells": [
  {
   "cell_type": "markdown",
   "metadata": {},
   "source": [
    "# Question 1"
   ]
  },
  {
   "cell_type": "markdown",
   "metadata": {},
   "source": [
    "(a) \n",
    "$$\n",
    "c + \\frac{1}{2}c + \\frac{1}{4}c = 1 \\\\\n",
    " c = \\frac{4}{7}\n",
    "$$\n"
   ]
  },
  {
   "cell_type": "markdown",
   "metadata": {},
   "source": [
    "# Question 2"
   ]
  },
  {
   "cell_type": "markdown",
   "metadata": {},
   "source": [
    "(a)\n",
    "$$\n",
    " \\int_{0}^{2} c x^2 dx = 1 \\\\\n",
    " \\frac{1}{2} c x^2 \\Big|_0^2 = 1 \\\\\n",
    " c = \\frac{1}{2}\n",
    "$$\n"
   ]
  },
  {
   "cell_type": "markdown",
   "metadata": {},
   "source": [
    "(b) \n",
    "$$\n",
    "\\frac{1}{4} x^2 \\Big|_0^1 = \\frac{1}{4}\n",
    "$$"
   ]
  },
  {
   "cell_type": "markdown",
   "metadata": {},
   "source": [
    "(c)\n",
    "$$\n",
    "Pr[-\\frac{1}{2} \\le X \\le \\frac{1}{2}] = Pr[0 \\le X \\le \\frac{1}{2}] \\\\\n",
    "\\frac{1}{4} x^2 \\Big|_0^\\frac{1}{2} = \\frac{1}{16}\n",
    "$$"
   ]
  },
  {
   "cell_type": "markdown",
   "metadata": {},
   "source": [
    "# Question 3"
   ]
  },
  {
   "cell_type": "markdown",
   "metadata": {},
   "source": [
    "Bayes's Rule:    $Pr(Y|X) = \\frac{Pr(X|Y)Pr(Y)}{Pr(X)}$ <br>\n",
    "\n",
    "\n",
    "$$\n",
    "Pr(B|A) = \\frac{0.6 \\times 0.3}{0.78}\\\\\n",
    "Pr(B|A) = 0.231 \\text{(To 3 s.f.)}\n",
    "$$"
   ]
  },
  {
   "cell_type": "markdown",
   "metadata": {},
   "source": [
    "# Question 4"
   ]
  },
  {
   "cell_type": "markdown",
   "metadata": {},
   "source": [
    "(a) (i) List all pairs: "
   ]
  },
  {
   "cell_type": "code",
   "execution_count": 11,
   "metadata": {},
   "outputs": [
    {
     "name": "stdout",
     "output_type": "stream",
     "text": [
      "[1 2 3 4 5 6]\n",
      "[((1, 1), 2), ((1, 2), 3), ((1, 3), 4), ((1, 4), 5), ((1, 5), 6), ((1, 6), 7), ((2, 1), 3), ((2, 2), 4), ((2, 3), 5), ((2, 4), 6), ((2, 5), 7), ((2, 6), 8), ((3, 1), 4), ((3, 2), 5), ((3, 3), 6), ((3, 4), 7), ((3, 5), 8), ((3, 6), 9), ((4, 1), 5), ((4, 2), 6), ((4, 3), 7), ((4, 4), 8), ((4, 5), 9), ((4, 6), 10), ((5, 1), 6), ((5, 2), 7), ((5, 3), 8), ((5, 4), 9), ((5, 5), 10), ((5, 6), 11), ((6, 1), 7), ((6, 2), 8), ((6, 3), 9), ((6, 4), 10), ((6, 5), 11), ((6, 6), 12)]\n",
      "[0.         0.02777778 0.05555556 0.08333333 0.11111111 0.13888889\n",
      " 0.16666667 0.13888889 0.11111111 0.08333333 0.05555556 0.02777778]\n"
     ]
    },
    {
     "data": {
      "text/plain": [
       "'\\nfrom itertools import combinations, permutations, product\\n#print(list(combinations(range(1,7), 2)))\\nx = list(range(1, 7))\\n[p for p in product(x, repeat=2)]\\n'"
      ]
     },
     "execution_count": 11,
     "metadata": {},
     "output_type": "execute_result"
    }
   ],
   "source": [
    "import numpy as np\n",
    "x = range(1, 7)\n",
    "x = np.array(x)\n",
    "print(x)\n",
    "pairs = []\n",
    "\n",
    "count = 0\n",
    "total = 0\n",
    "for i in range(1, 7):\n",
    "    for j in range(1, 7):\n",
    "        pairs.append(((i, j), i + j)) #use tuple in this case\n",
    "        total += 1\n",
    "        if (i + j == 7):\n",
    "            count += 1\n",
    "#print(count/total)\n",
    "\n",
    "occurrences_of_outcomes = np.zeros(12)\n",
    "print(pairs)\n",
    "for pair in pairs:\n",
    "    # print(pair[1])\n",
    "    occurrences_of_outcomes[pair[1] - 1] += 1\n",
    "print(occurrences_of_outcomes/np.sum(occurrences_of_outcomes))\n",
    "\n",
    "\"\"\"\n",
    "from itertools import combinations, permutations, product\n",
    "#print(list(combinations(range(1,7), 2)))\n",
    "x = list(range(1, 7))\n",
    "[p for p in product(x, repeat=2)]\n",
    "\"\"\""
   ]
  },
  {
   "cell_type": "markdown",
   "metadata": {},
   "source": [
    "(ii) Collect all of the (a, b) pairs that sum to each of the possible values from two to twelve"
   ]
  },
  {
   "cell_type": "code",
   "execution_count": null,
   "metadata": {},
   "outputs": [],
   "source": [
    "from collections import defaultdict"
   ]
  },
  {
   "cell_type": "markdown",
   "metadata": {},
   "source": [
    "# Question 5 Normal Distribution & Cumulative Distribution Function"
   ]
  },
  {
   "cell_type": "code",
   "execution_count": 3,
   "metadata": {},
   "outputs": [
    {
     "name": "stdout",
     "output_type": "stream",
     "text": [
      "0.8189493848246799\n"
     ]
    }
   ],
   "source": [
    "from scipy import stats\n",
    "\n",
    "MU_VALUE = 30\n",
    "SD_VALUE = 1.8\n",
    "LOWER_BOUND = 28\n",
    "UPPER_BOUND = 33\n",
    "\n",
    "lower_val = stats.norm.cdf(LOWER_BOUND, MU_VALUE, SD_VALUE)\n",
    "upper_val = stats.norm.cdf(UPPER_BOUND, MU_VALUE, SD_VALUE)\n",
    "print(upper_val - lower_val)"
   ]
  },
  {
   "cell_type": "markdown",
   "metadata": {},
   "source": [
    "# Question 6 Correlation vs Causation"
   ]
  },
  {
   "cell_type": "markdown",
   "metadata": {},
   "source": [
    "(i) Higher meat consumption leads to higher colon cancer risk. There is correlation between the two factors. <br>\n",
    "(ii) Plausible, need more evidence. <br>\n",
    "(iii) Correlation, yes, causation, maybe."
   ]
  },
  {
   "cell_type": "markdown",
   "metadata": {},
   "source": [
    "# Question 7 "
   ]
  },
  {
   "cell_type": "markdown",
   "metadata": {},
   "source": [
    "True: a, b <br>\n",
    "False: c, d"
   ]
  },
  {
   "cell_type": "markdown",
   "metadata": {},
   "source": [
    "# Question 8"
   ]
  },
  {
   "cell_type": "markdown",
   "metadata": {},
   "source": [
    "Valid: b, d <br>\n",
    "Invalid: a, c"
   ]
  },
  {
   "cell_type": "markdown",
   "metadata": {},
   "source": [
    "# Question 9"
   ]
  },
  {
   "cell_type": "markdown",
   "metadata": {},
   "source": [
    "No, they are linearly independent."
   ]
  },
  {
   "cell_type": "code",
   "execution_count": 6,
   "metadata": {},
   "outputs": [
    {
     "name": "stdout",
     "output_type": "stream",
     "text": [
      "(Matrix([\n",
      "[1, 0],\n",
      "[0, 1],\n",
      "[0, 0]]), (0, 1))\n"
     ]
    }
   ],
   "source": [
    "import sympy\n",
    "import numpy as np\n",
    "matrix = np.matrix ([\n",
    "    [1, 2, 3],\n",
    "    [4, 5, 6]\n",
    "])\n",
    "print(sympy.Matrix(matrix).T.rref())\n",
    "\n"
   ]
  },
  {
   "cell_type": "markdown",
   "metadata": {},
   "source": [
    "# Question 10"
   ]
  },
  {
   "cell_type": "markdown",
   "metadata": {},
   "source": [
    "2"
   ]
  },
  {
   "cell_type": "markdown",
   "metadata": {},
   "source": [
    "# Question 11"
   ]
  },
  {
   "cell_type": "markdown",
   "metadata": {},
   "source": [
    "2"
   ]
  },
  {
   "cell_type": "code",
   "execution_count": 7,
   "metadata": {},
   "outputs": [
    {
     "name": "stdout",
     "output_type": "stream",
     "text": [
      "(Matrix([\n",
      "[1, 0, -1],\n",
      "[0, 1,  2],\n",
      "[0, 0,  0]]), (0, 1))\n"
     ]
    }
   ],
   "source": [
    "import sympy\n",
    "import numpy as np\n",
    "matrix = np.matrix([\n",
    "    [1, 2, 3],\n",
    "    [4, 5, 6],\n",
    "    [7, 8, 9]\n",
    "])\n",
    "print(sympy.Matrix(matrix).T.rref())"
   ]
  }
 ],
 "metadata": {
  "kernelspec": {
   "display_name": "base",
   "language": "python",
   "name": "python3"
  },
  "language_info": {
   "codemirror_mode": {
    "name": "ipython",
    "version": 3
   },
   "file_extension": ".py",
   "mimetype": "text/x-python",
   "name": "python",
   "nbconvert_exporter": "python",
   "pygments_lexer": "ipython3",
   "version": "3.10.8"
  },
  "orig_nbformat": 4
 },
 "nbformat": 4,
 "nbformat_minor": 2
}
