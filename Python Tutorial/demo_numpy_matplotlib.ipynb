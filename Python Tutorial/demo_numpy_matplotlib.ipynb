{
 "cells": [
  {
   "cell_type": "markdown",
   "id": "55f5041a",
   "metadata": {},
   "source": [
    "# Import Numpy"
   ]
  },
  {
   "cell_type": "code",
   "execution_count": 43,
   "id": "095657db",
   "metadata": {},
   "outputs": [],
   "source": [
    "import numpy as np\n",
    "import sympy as sp"
   ]
  },
  {
   "cell_type": "markdown",
   "id": "67082afd",
   "metadata": {},
   "source": [
    "# Create a Numpy matrix"
   ]
  },
  {
   "cell_type": "markdown",
   "id": "ff55a62e",
   "metadata": {},
   "source": [
    "* From a list"
   ]
  },
  {
   "cell_type": "code",
   "execution_count": 6,
   "id": "85c6ab64",
   "metadata": {},
   "outputs": [
    {
     "name": "stdout",
     "output_type": "stream",
     "text": [
      "[1 2 3]\n",
      "[[1 2 3]\n",
      " [4 5 6]\n",
      " [7 8 9]]\n"
     ]
    }
   ],
   "source": [
    "a = np.array([1, 2, 3])\n",
    "print(a)\n",
    "b = np.array([[1, 2, 3],\n",
    "              [4, 5, 6],\n",
    "              [7, 8, 9]])\n",
    "print(b)"
   ]
  },
  {
   "cell_type": "markdown",
   "id": "32037c50",
   "metadata": {},
   "source": [
    "* Identity matrix"
   ]
  },
  {
   "cell_type": "code",
   "execution_count": 7,
   "id": "fcab420a",
   "metadata": {},
   "outputs": [
    {
     "name": "stdout",
     "output_type": "stream",
     "text": [
      "[[1. 0. 0.]\n",
      " [0. 1. 0.]\n",
      " [0. 0. 1.]]\n"
     ]
    }
   ],
   "source": [
    "a = np.eye(3)\n",
    "print(a)"
   ]
  },
  {
   "cell_type": "markdown",
   "id": "3f7699e1",
   "metadata": {},
   "source": [
    "* All-zero and all-one matrix"
   ]
  },
  {
   "cell_type": "code",
   "execution_count": 8,
   "id": "9f4252e9",
   "metadata": {},
   "outputs": [
    {
     "name": "stdout",
     "output_type": "stream",
     "text": [
      "[0. 0. 0.]\n",
      "[[0. 0. 0.]\n",
      " [0. 0. 0.]]\n",
      "[1. 1. 1.]\n",
      "[[1. 1. 1.]\n",
      " [1. 1. 1.]]\n"
     ]
    }
   ],
   "source": [
    "a = np.zeros(3)\n",
    "print(a)\n",
    "b = np.zeros((2, 3))\n",
    "print(b)\n",
    "a = np.ones(3)\n",
    "print(a)\n",
    "b = np.ones((2, 3))\n",
    "print(b)"
   ]
  },
  {
   "cell_type": "markdown",
   "id": "f2233a95",
   "metadata": {},
   "source": [
    "* Random matrix"
   ]
  },
  {
   "cell_type": "code",
   "execution_count": 9,
   "id": "f38d772c",
   "metadata": {},
   "outputs": [
    {
     "name": "stdout",
     "output_type": "stream",
     "text": [
      "[0.71364332 0.71799972 0.36135213 0.44850048 0.60768365]\n",
      "[[0.74392235 0.04527839 0.01303767]\n",
      " [0.34286257 0.05219471 0.12450527]\n",
      " [0.10688534 0.12007827 0.1443277 ]]\n",
      "[ 1.0616874  -0.04928261  1.47409307 -0.04740845 -0.60559412]\n",
      "[[-1.09985151  0.1897816  -0.07220253]\n",
      " [ 0.68093084 -0.47435757 -1.9212079 ]\n",
      " [-0.41170545  0.42578229  0.53492005]]\n"
     ]
    }
   ],
   "source": [
    "a = np.random.rand(5)\n",
    "print(a)\n",
    "b = np.random.rand(3, 3)\n",
    "print(b)\n",
    "c = np.random.randn(5)\n",
    "print(c)\n",
    "d = np.random.randn(3, 3)\n",
    "print(d)"
   ]
  },
  {
   "cell_type": "markdown",
   "id": "8c7bcedc",
   "metadata": {},
   "source": [
    "* Equal-distance array"
   ]
  },
  {
   "cell_type": "code",
   "execution_count": 38,
   "id": "8b6c4556",
   "metadata": {},
   "outputs": [
    {
     "name": "stdout",
     "output_type": "stream",
     "text": [
      "[  1.  12.  23.  34.  45.  56.  67.  78.  89. 100.]\n",
      "1\n",
      "3\n",
      "5\n",
      "7\n",
      "9\n",
      "range(1, 10, 2)\n"
     ]
    }
   ],
   "source": [
    "b = np.linspace(1, 100, 10)\n",
    "print(b)\n",
    "a = range(1, 10, 2)\n",
    "for n in a:\n",
    "    print(n)\n",
    "print(a)"
   ]
  },
  {
   "cell_type": "markdown",
   "id": "24546725",
   "metadata": {},
   "source": [
    "# Attributes of a Numpy matrix"
   ]
  },
  {
   "cell_type": "markdown",
   "id": "23c3cc58",
   "metadata": {},
   "source": [
    "* ndim"
   ]
  },
  {
   "cell_type": "code",
   "execution_count": 54,
   "id": "2f7cea37",
   "metadata": {},
   "outputs": [
    {
     "name": "stdout",
     "output_type": "stream",
     "text": [
      "1\n",
      "[[0.61899503 0.56904193 0.85612881 0.1172528 ]\n",
      " [0.24881504 0.43237545 0.7123745  0.74539545]\n",
      " [0.11925986 0.43524852 0.34210397 0.32481472]]\n",
      "2\n",
      "2\n"
     ]
    }
   ],
   "source": [
    "a = np.random.rand(5)\n",
    "print(a.ndim) # Number of dimmension\n",
    "b = np.random.rand(3, 4)\n",
    "print(b)\n",
    "print(b.ndim);\n",
    "a = np.eye(4)\n",
    "print(a.ndim);"
   ]
  },
  {
   "cell_type": "code",
   "execution_count": 52,
   "id": "05c5cebf",
   "metadata": {},
   "outputs": [
    {
     "name": "stdout",
     "output_type": "stream",
     "text": [
      "Matrix : Matrix([[0.618287010000000, 0.301665080000000, 0.325893770000000, 0.834176240000000], [0.299002670000000, 0.977772660000000, 0.574200630000000, 0.467106040000000], [0.834307870000000, 0.0544771400000000, 0.936858210000000, 0.206314600000000]]) \n",
      "The Row echelon form of matrix M and the pivot columns : (Matrix([\n",
      "[1, 0, 0,  1.68633645785373],\n",
      "[0, 1, 0, 0.739890649538661],\n",
      "[0, 0, 1, -1.32455081410334]]), (0, 1, 2))\n"
     ]
    }
   ],
   "source": [
    "M = sp.Matrix([[0.61828701, 0.30166508, 0.32589377, 0.83417624], [0.29900267, 0.97777266, 0.57420063, 0.46710604], [0.83430787, 0.05447714, 0.93685821, 0.2063146]])\n",
    "print(\"Matrix : {} \".format(M))\n",
    "   \n",
    "# Use sympy.rref() method \n",
    "M_rref = M.rref()\n",
    "print(\"The Row echelon form of matrix M and the pivot columns : {}\".format(M_rref))  "
   ]
  },
  {
   "cell_type": "markdown",
   "id": "d80910ec",
   "metadata": {},
   "source": [
    "* shape"
   ]
  },
  {
   "cell_type": "code",
   "execution_count": 12,
   "id": "b432def9",
   "metadata": {},
   "outputs": [
    {
     "name": "stdout",
     "output_type": "stream",
     "text": [
      "(5, 4)\n",
      "(3,)\n"
     ]
    }
   ],
   "source": [
    "a = np.random.rand(5, 4)\n",
    "print(a.shape)\n",
    "b = np.random.rand(3)\n",
    "print(b.shape)"
   ]
  },
  {
   "cell_type": "markdown",
   "id": "a697e3b3",
   "metadata": {},
   "source": [
    "* dtype"
   ]
  },
  {
   "cell_type": "code",
   "execution_count": 56,
   "id": "c1da4f7f",
   "metadata": {},
   "outputs": [
    {
     "name": "stdout",
     "output_type": "stream",
     "text": [
      "float64\n",
      "int32\n",
      "float64\n"
     ]
    }
   ],
   "source": [
    "a = np.random.rand(5)\n",
    "print(a.dtype)\n",
    "b = np.array([1, 2, 3])\n",
    "print(b.dtype)\n",
    "b = b.astype(np.float64)\n",
    "print(b.dtype)"
   ]
  },
  {
   "cell_type": "markdown",
   "id": "1709b19a",
   "metadata": {},
   "source": [
    "# Index"
   ]
  },
  {
   "cell_type": "code",
   "execution_count": 14,
   "id": "e8a6ed90",
   "metadata": {},
   "outputs": [
    {
     "name": "stdout",
     "output_type": "stream",
     "text": [
      "a[0, 0] is 1\n",
      "a[1, 2] is 6\n",
      "a[1, -1] is 6\n",
      "[2 5]\n",
      "[4 5 6]\n",
      "[4 5 6]\n",
      "[4 5 6]\n",
      "[[1 2 3]\n",
      " [4 5 6]]\n",
      "[[1 2 3]\n",
      " [4 5 6]]\n"
     ]
    }
   ],
   "source": [
    "a = np.array([[1, 2, 3], \n",
    "              [4, 5, 6]])\n",
    "print('a[0, 0] is %d' % a[0, 0])\n",
    "print('a[1, 2] is %d' % a[1, 2])\n",
    "print('a[1, -1] is %d' % a[1, -1])\n",
    "print(a[:, 1])\n",
    "print(a[1, :])\n",
    "print(a[-1])\n",
    "print(a[-1, :])\n",
    "print(a[:, :])\n",
    "print(a)"
   ]
  },
  {
   "cell_type": "markdown",
   "id": "60d6364c",
   "metadata": {},
   "source": [
    "# Operations"
   ]
  },
  {
   "cell_type": "markdown",
   "id": "34f21770",
   "metadata": {},
   "source": [
    "* transpose"
   ]
  },
  {
   "cell_type": "code",
   "execution_count": 15,
   "id": "62f48a94",
   "metadata": {},
   "outputs": [
    {
     "name": "stdout",
     "output_type": "stream",
     "text": [
      "[[1 2 3]\n",
      " [4 5 6]]\n",
      "(2, 3)\n",
      "[[1 4]\n",
      " [2 5]\n",
      " [3 6]]\n",
      "(3, 2)\n"
     ]
    }
   ],
   "source": [
    "a = np.array([[1, 2, 3],\n",
    "              [4, 5, 6]])\n",
    "print(a)\n",
    "print(a.shape)\n",
    "b = a.T\n",
    "print(b)\n",
    "print(b.shape)"
   ]
  },
  {
   "cell_type": "markdown",
   "id": "47fac1f7",
   "metadata": {},
   "source": [
    "* concatenation"
   ]
  },
  {
   "cell_type": "code",
   "execution_count": 16,
   "id": "bf50f954",
   "metadata": {},
   "outputs": [
    {
     "name": "stdout",
     "output_type": "stream",
     "text": [
      "(2, 3)\n",
      "(1, 3)\n",
      "(2, 1)\n",
      "[[1 2 3]\n",
      " [4 5 6]\n",
      " [7 8 9]]\n",
      "(3, 3)\n",
      "[[ 1  2  3 10]\n",
      " [ 4  5  6 10]]\n",
      "(2, 4)\n"
     ]
    }
   ],
   "source": [
    "a = np.array([[1, 2, 3],\n",
    "              [4, 5, 6]])\n",
    "print(a.shape)\n",
    "b = np.array([[7, 8, 9]])\n",
    "print(b.shape)\n",
    "c = np.array([[10], [10]])\n",
    "print(c.shape)\n",
    "d = np.concatenate([a, b], axis=0)\n",
    "print(d)\n",
    "print(d.shape)\n",
    "e = np.concatenate([a, c], axis=1)\n",
    "print(e)\n",
    "print(e.shape)"
   ]
  },
  {
   "cell_type": "markdown",
   "id": "98a0fc40",
   "metadata": {},
   "source": [
    "* reshape"
   ]
  },
  {
   "cell_type": "code",
   "execution_count": 17,
   "id": "d4c87b2a",
   "metadata": {},
   "outputs": [
    {
     "name": "stdout",
     "output_type": "stream",
     "text": [
      "[[1 2 3]\n",
      " [4 5 6]]\n",
      "(2, 3)\n",
      "[[1 2]\n",
      " [3 4]\n",
      " [5 6]]\n",
      "(3, 2)\n"
     ]
    }
   ],
   "source": [
    "a = np.array([[1, 2, 3],\n",
    "              [4, 5, 6]])\n",
    "print(a)\n",
    "print(a.shape)\n",
    "b = a.reshape((3, 2))\n",
    "print(b)\n",
    "print(b.shape)"
   ]
  },
  {
   "cell_type": "markdown",
   "id": "2cd0ec74",
   "metadata": {},
   "source": [
    "* select"
   ]
  },
  {
   "cell_type": "code",
   "execution_count": 57,
   "id": "aba7df03",
   "metadata": {},
   "outputs": [
    {
     "name": "stdout",
     "output_type": "stream",
     "text": [
      "(array([0, 1, 1, 1], dtype=int64), array([2, 0, 1, 2], dtype=int64))\n",
      "[3 4 5 6]\n",
      "[3 4 5 6]\n"
     ]
    }
   ],
   "source": [
    "a = np.array([[1, 2, 3],\n",
    "              [4, 5, 6]])\n",
    "print(np.where(a > 2))\n",
    "print(a[np.where(a > 2)])\n",
    "print(a[a > 2])"
   ]
  },
  {
   "cell_type": "markdown",
   "id": "a8c4983b",
   "metadata": {},
   "source": [
    "# Mathematical Operators"
   ]
  },
  {
   "cell_type": "code",
   "execution_count": 19,
   "id": "e103c6d5",
   "metadata": {},
   "outputs": [
    {
     "name": "stdout",
     "output_type": "stream",
     "text": [
      "(2, 3)\n",
      "(2, 3)\n",
      "(1, 3)\n"
     ]
    }
   ],
   "source": [
    "a = np.array([[1, 2, 3],\n",
    "              [4, 5, 6]])\n",
    "print(a.shape)\n",
    "b = np.array([[0.1, 0.2, 0.3],\n",
    "              [0.4, 0.5, 0.6]])\n",
    "print(b.shape)\n",
    "c = np.array([[0.1, 0.2, 0.3]])\n",
    "print(c.shape)\n",
    "d = 0.9"
   ]
  },
  {
   "cell_type": "markdown",
   "id": "04c42aba",
   "metadata": {},
   "source": [
    "* Addition"
   ]
  },
  {
   "cell_type": "code",
   "execution_count": 20,
   "id": "cad91a7e",
   "metadata": {},
   "outputs": [
    {
     "name": "stdout",
     "output_type": "stream",
     "text": [
      "[[1.1 2.2 3.3]\n",
      " [4.4 5.5 6.6]]\n",
      "[[1.1 2.2 3.3]\n",
      " [4.1 5.2 6.3]]\n",
      "[[1.9 2.9 3.9]\n",
      " [4.9 5.9 6.9]]\n"
     ]
    }
   ],
   "source": [
    "print(a + b)\n",
    "print(a + c)\n",
    "print(a + d)"
   ]
  },
  {
   "cell_type": "markdown",
   "id": "fb2f42c0",
   "metadata": {},
   "source": [
    "* Substraction"
   ]
  },
  {
   "cell_type": "code",
   "execution_count": 21,
   "id": "1567f464",
   "metadata": {},
   "outputs": [
    {
     "name": "stdout",
     "output_type": "stream",
     "text": [
      "[[0.9 1.8 2.7]\n",
      " [3.6 4.5 5.4]]\n",
      "[[0.9 1.8 2.7]\n",
      " [3.9 4.8 5.7]]\n",
      "[[0.1 1.1 2.1]\n",
      " [3.1 4.1 5.1]]\n"
     ]
    }
   ],
   "source": [
    "print(a - b)\n",
    "print(a - c)\n",
    "print(a - d)"
   ]
  },
  {
   "cell_type": "markdown",
   "id": "09c99195",
   "metadata": {},
   "source": [
    "* Element-wise multiplication"
   ]
  },
  {
   "cell_type": "code",
   "execution_count": 22,
   "id": "678f757c",
   "metadata": {},
   "outputs": [
    {
     "name": "stdout",
     "output_type": "stream",
     "text": [
      "[[0.1 0.4 0.9]\n",
      " [1.6 2.5 3.6]]\n",
      "[[0.1 0.4 0.9]\n",
      " [0.4 1.  1.8]]\n",
      "[[0.9 1.8 2.7]\n",
      " [3.6 4.5 5.4]]\n"
     ]
    }
   ],
   "source": [
    "print(a * b)\n",
    "print(a * c)\n",
    "print(a * d)"
   ]
  },
  {
   "cell_type": "markdown",
   "id": "d38d10e6",
   "metadata": {},
   "source": [
    "* Division"
   ]
  },
  {
   "cell_type": "code",
   "execution_count": 23,
   "id": "8086005e",
   "metadata": {},
   "outputs": [
    {
     "name": "stdout",
     "output_type": "stream",
     "text": [
      "[[10. 10. 10.]\n",
      " [10. 10. 10.]]\n",
      "[[10. 10. 10.]\n",
      " [40. 25. 20.]]\n",
      "[[1.11111111 2.22222222 3.33333333]\n",
      " [4.44444444 5.55555556 6.66666667]]\n"
     ]
    }
   ],
   "source": [
    "print(a / b)\n",
    "print(a / c)\n",
    "print(a / d)"
   ]
  },
  {
   "cell_type": "markdown",
   "id": "8649855b",
   "metadata": {},
   "source": [
    "* Matrix-wise multiplication"
   ]
  },
  {
   "cell_type": "code",
   "execution_count": 24,
   "id": "b64bf732",
   "metadata": {},
   "outputs": [
    {
     "name": "stdout",
     "output_type": "stream",
     "text": [
      "[[1.4 3.2]\n",
      " [3.2 7.7]]\n",
      "[[1.4]\n",
      " [3.2]]\n"
     ]
    }
   ],
   "source": [
    "print(a @ b.T)\n",
    "print(a @ c.T)"
   ]
  },
  {
   "cell_type": "markdown",
   "id": "270122fd",
   "metadata": {},
   "source": [
    "* Inverse"
   ]
  },
  {
   "cell_type": "code",
   "execution_count": 25,
   "id": "c125c9bc",
   "metadata": {},
   "outputs": [
    {
     "name": "stdout",
     "output_type": "stream",
     "text": [
      "[[14.25925926 -5.92592593]\n",
      " [-5.92592593  2.59259259]]\n",
      "[[ 1.00000000e+00 -1.04607681e-15]\n",
      " [-3.25007511e-15  1.00000000e+00]]\n"
     ]
    }
   ],
   "source": [
    "e = a @ b.T\n",
    "e_inv = np.linalg.inv(e)\n",
    "print(e_inv)\n",
    "f = e @ e_inv\n",
    "print(f)"
   ]
  },
  {
   "cell_type": "markdown",
   "id": "50f4b9bb",
   "metadata": {},
   "source": [
    "# Import Matplotlib"
   ]
  },
  {
   "cell_type": "code",
   "execution_count": 1,
   "id": "5c08a65c",
   "metadata": {},
   "outputs": [
    {
     "ename": "ModuleNotFoundError",
     "evalue": "No module named 'matplotlib'",
     "output_type": "error",
     "traceback": [
      "\u001b[1;31m---------------------------------------------------------------------------\u001b[0m",
      "\u001b[1;31mModuleNotFoundError\u001b[0m                       Traceback (most recent call last)",
      "Cell \u001b[1;32mIn[1], line 1\u001b[0m\n\u001b[1;32m----> 1\u001b[0m \u001b[39mimport\u001b[39;00m \u001b[39mmatplotlib\u001b[39;00m\u001b[39m.\u001b[39;00m\u001b[39mpyplot\u001b[39;00m \u001b[39mas\u001b[39;00m \u001b[39mplt\u001b[39;00m\n",
      "\u001b[1;31mModuleNotFoundError\u001b[0m: No module named 'matplotlib'"
     ]
    }
   ],
   "source": [
    "import matplotlib.pyplot as plt"
   ]
  },
  {
   "cell_type": "code",
   "execution_count": 27,
   "id": "e58069b4",
   "metadata": {},
   "outputs": [],
   "source": [
    "x = np.linspace(0, 4 * np.pi, 1000)\n",
    "y = np.sin(x)\n",
    "z = np.cos(x)"
   ]
  },
  {
   "cell_type": "code",
   "execution_count": 28,
   "id": "ef1ed542",
   "metadata": {},
   "outputs": [
    {
     "data": {
      "image/png": "[encoded data removed]",
      "text/plain": [
       "<Figure size 640x480 with 1 Axes>"
      ]
     },
     "metadata": {},
     "output_type": "display_data"
    }
   ],
   "source": [
    "plt.plot(x, y)\n",
    "plt.show()"
   ]
  },
  {
   "cell_type": "code",
   "execution_count": 29,
   "id": "d69e6bd3",
   "metadata": {},
   "outputs": [
    {
     "data": {
      "image/png": "[encoded data removed]",
      "text/plain": [
       "<Figure size 640x480 with 1 Axes>"
      ]
     },
     "metadata": {},
     "output_type": "display_data"
    }
   ],
   "source": [
    "plt.grid()\n",
    "plt.plot(x, y)\n",
    "plt.plot(x, z)\n",
    "plt.show()"
   ]
  },
  {
   "cell_type": "code",
   "execution_count": 30,
   "id": "28c123ad",
   "metadata": {},
   "outputs": [
    {
     "data": {
      "image/png": "[encoded data removed]",
      "text/plain": [
       "<Figure size 640x480 with 1 Axes>"
      ]
     },
     "metadata": {},
     "output_type": "display_data"
    }
   ],
   "source": [
    "plt.grid()\n",
    "plt.plot(x, y, c='red', label='sin')\n",
    "plt.plot(x, z, c='green', label='cos')\n",
    "plt.legend()\n",
    "plt.xlabel('Time')\n",
    "plt.ylabel('Value')\n",
    "plt.title('Sin and Cos')\n",
    "plt.show()"
   ]
  },
  {
   "cell_type": "code",
   "execution_count": 31,
   "id": "77f20e64",
   "metadata": {},
   "outputs": [
    {
     "data": {
      "image/png": "[encoded data removed]",
      "text/plain": [
       "<Figure size 640x480 with 1 Axes>"
      ]
     },
     "metadata": {},
     "output_type": "display_data"
    }
   ],
   "source": [
    "x = [1, 2, 3, 4, 5]\n",
    "y = [5, 4, 3, 2, 1]\n",
    "plt.bar(x, y)\n",
    "plt.show()"
   ]
  },
  {
   "cell_type": "code",
   "execution_count": 32,
   "id": "a54750ea",
   "metadata": {},
   "outputs": [
    {
     "data": {
      "image/png": "[encoded data removed]",
      "text/plain": [
       "<Figure size 640x480 with 1 Axes>"
      ]
     },
     "metadata": {},
     "output_type": "display_data"
    }
   ],
   "source": [
    "x = np.random.rand(5, 5) + 2 * np.eye(5)\n",
    "plt.imshow(x)\n",
    "plt.show()"
   ]
  },
  {
   "cell_type": "code",
   "execution_count": null,
   "id": "f4c83009",
   "metadata": {},
   "outputs": [],
   "source": []
  }
 ],
 "metadata": {
  "kernelspec": {
   "display_name": "Python 3 (ipykernel)",
   "language": "python",
   "name": "python3"
  },
  "language_info": {
   "codemirror_mode": {
    "name": "ipython",
    "version": 3
   },
   "file_extension": ".py",
   "mimetype": "text/x-python",
   "name": "python",
   "nbconvert_exporter": "python",
   "pygments_lexer": "ipython3",
   "version": "3.11.4"
  }
 },
 "nbformat": 4,
 "nbformat_minor": 5
}
