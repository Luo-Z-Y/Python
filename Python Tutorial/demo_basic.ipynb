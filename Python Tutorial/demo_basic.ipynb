{
 "cells": [
  {
   "cell_type": "markdown",
   "id": "4f5f45f2",
   "metadata": {},
   "source": [
    "# Variable"
   ]
  },
  {
   "cell_type": "code",
   "execution_count": 1,
   "id": "3063d813",
   "metadata": {},
   "outputs": [],
   "source": [
    "# Integer\n",
    "a = 1\n",
    "# Float Number\n",
    "b = 2.3\n",
    "# String\n",
    "c = 'ee2211'\n",
    "d = \"ee2211\"\n",
    "# Boolean\n",
    "e = True\n",
    "f = False\n",
    "# List\n",
    "g = [1, 2, '3']\n",
    "# Tuple\n",
    "h = (a, b)\n",
    "i, j = 11, 22\n",
    "# Dictionary\n",
    "k = {'a': 0, 'b': 1, 'c': 2}"
   ]
  },
  {
   "cell_type": "markdown",
   "id": "bf1a2268",
   "metadata": {},
   "source": [
    "# Print"
   ]
  },
  {
   "cell_type": "code",
   "execution_count": 2,
   "id": "2ff7b5ef",
   "metadata": {},
   "outputs": [
    {
     "name": "stdout",
     "output_type": "stream",
     "text": [
      "1\n",
      "2.3\n",
      "ee2211\n",
      "ee2211\n",
      "True\n",
      "False\n",
      "[1, 2, '3']\n",
      "(1, 2.3)\n",
      "11\n",
      "22\n",
      "{'a': 0, 'b': 1, 'c': 2}\n"
     ]
    }
   ],
   "source": [
    "print(a)\n",
    "print(b)\n",
    "print(c)\n",
    "print(d)\n",
    "print(e)\n",
    "print(f)\n",
    "print(g)\n",
    "print(h)\n",
    "print(i)\n",
    "print(j)\n",
    "print(k)"
   ]
  },
  {
   "cell_type": "markdown",
   "id": "51eee73a",
   "metadata": {},
   "source": [
    "# Numbers"
   ]
  },
  {
   "cell_type": "code",
   "execution_count": 3,
   "id": "b6f8ea07",
   "metadata": {},
   "outputs": [],
   "source": [
    "a = 2\n",
    "b = 3"
   ]
  },
  {
   "cell_type": "code",
   "execution_count": 4,
   "id": "d90a8a96",
   "metadata": {},
   "outputs": [
    {
     "name": "stdout",
     "output_type": "stream",
     "text": [
      "5\n"
     ]
    }
   ],
   "source": [
    "x = a + b\n",
    "print(x)"
   ]
  },
  {
   "cell_type": "code",
   "execution_count": 5,
   "id": "1b7d921b",
   "metadata": {},
   "outputs": [
    {
     "name": "stdout",
     "output_type": "stream",
     "text": [
      "-1\n"
     ]
    }
   ],
   "source": [
    "y = a - b\n",
    "print(y)"
   ]
  },
  {
   "cell_type": "code",
   "execution_count": 6,
   "id": "5d4ba76a",
   "metadata": {},
   "outputs": [
    {
     "name": "stdout",
     "output_type": "stream",
     "text": [
      "6\n"
     ]
    }
   ],
   "source": [
    "z = a * b\n",
    "print(z)"
   ]
  },
  {
   "cell_type": "code",
   "execution_count": 7,
   "id": "1a469ec5",
   "metadata": {},
   "outputs": [
    {
     "name": "stdout",
     "output_type": "stream",
     "text": [
      "1.5\n"
     ]
    }
   ],
   "source": [
    "u = b / a\n",
    "print(u)"
   ]
  },
  {
   "cell_type": "code",
   "execution_count": 8,
   "id": "26d63c7d",
   "metadata": {},
   "outputs": [
    {
     "name": "stdout",
     "output_type": "stream",
     "text": [
      "1\n"
     ]
    }
   ],
   "source": [
    "v = b // a\n",
    "print(v)"
   ]
  },
  {
   "cell_type": "code",
   "execution_count": 9,
   "id": "ddd5db39",
   "metadata": {},
   "outputs": [
    {
     "name": "stdout",
     "output_type": "stream",
     "text": [
      "1\n"
     ]
    }
   ],
   "source": [
    "w = b % a\n",
    "print(w)"
   ]
  },
  {
   "cell_type": "markdown",
   "id": "a7f751c5",
   "metadata": {},
   "source": [
    "# String"
   ]
  },
  {
   "cell_type": "code",
   "execution_count": 10,
   "id": "d700e179",
   "metadata": {},
   "outputs": [],
   "source": [
    "a = '123'\n",
    "b = '456'"
   ]
  },
  {
   "cell_type": "code",
   "execution_count": 11,
   "id": "5d124f20",
   "metadata": {},
   "outputs": [
    {
     "name": "stdout",
     "output_type": "stream",
     "text": [
      "123456\n"
     ]
    }
   ],
   "source": [
    "c = a + b\n",
    "print(c)"
   ]
  },
  {
   "cell_type": "code",
   "execution_count": 12,
   "id": "24b00ff1",
   "metadata": {},
   "outputs": [
    {
     "name": "stdout",
     "output_type": "stream",
     "text": [
      "123123123\n"
     ]
    }
   ],
   "source": [
    "d = a * 3\n",
    "print(d)"
   ]
  },
  {
   "cell_type": "code",
   "execution_count": 13,
   "id": "736c98a6",
   "metadata": {},
   "outputs": [
    {
     "name": "stdout",
     "output_type": "stream",
     "text": [
      "9\n"
     ]
    }
   ],
   "source": [
    "print(len(d))"
   ]
  },
  {
   "cell_type": "code",
   "execution_count": 14,
   "id": "9c7b8658",
   "metadata": {},
   "outputs": [
    {
     "name": "stdout",
     "output_type": "stream",
     "text": [
      "x is 1, y is 2.200000, and x+y is 3.2\n"
     ]
    }
   ],
   "source": [
    "x = 1\n",
    "y = 2.2\n",
    "print('x is %d, y is %f, and x+y is %.1f' % (x, y, x + y))"
   ]
  },
  {
   "cell_type": "markdown",
   "id": "5c61d2e1",
   "metadata": {},
   "source": [
    "# Boolean"
   ]
  },
  {
   "cell_type": "code",
   "execution_count": 15,
   "id": "3934fad6",
   "metadata": {},
   "outputs": [],
   "source": [
    "a = 1\n",
    "b = 2"
   ]
  },
  {
   "cell_type": "code",
   "execution_count": 16,
   "id": "25a4ed22",
   "metadata": {},
   "outputs": [
    {
     "name": "stdout",
     "output_type": "stream",
     "text": [
      "False\n"
     ]
    }
   ],
   "source": [
    "print(a > b)"
   ]
  },
  {
   "cell_type": "code",
   "execution_count": 17,
   "id": "6e4a67f2",
   "metadata": {},
   "outputs": [
    {
     "name": "stdout",
     "output_type": "stream",
     "text": [
      "True\n"
     ]
    }
   ],
   "source": [
    "print(a < b)"
   ]
  },
  {
   "cell_type": "code",
   "execution_count": 18,
   "id": "c70ee5ee",
   "metadata": {},
   "outputs": [
    {
     "name": "stdout",
     "output_type": "stream",
     "text": [
      "False\n"
     ]
    }
   ],
   "source": [
    "print(a >= b)"
   ]
  },
  {
   "cell_type": "code",
   "execution_count": 19,
   "id": "ca315c77",
   "metadata": {},
   "outputs": [
    {
     "name": "stdout",
     "output_type": "stream",
     "text": [
      "True\n"
     ]
    }
   ],
   "source": [
    "print(a <= b)"
   ]
  },
  {
   "cell_type": "code",
   "execution_count": 20,
   "id": "25d7a24b",
   "metadata": {},
   "outputs": [],
   "source": [
    "c = 3\n",
    "d = 3"
   ]
  },
  {
   "cell_type": "code",
   "execution_count": 21,
   "id": "f3bc5c9a",
   "metadata": {},
   "outputs": [
    {
     "name": "stdout",
     "output_type": "stream",
     "text": [
      "False\n"
     ]
    }
   ],
   "source": [
    "print(b < a and b < c)"
   ]
  },
  {
   "cell_type": "code",
   "execution_count": 22,
   "id": "51c54ea3",
   "metadata": {},
   "outputs": [
    {
     "name": "stdout",
     "output_type": "stream",
     "text": [
      "True\n"
     ]
    }
   ],
   "source": [
    "print(b < a or b < c)"
   ]
  },
  {
   "cell_type": "code",
   "execution_count": 23,
   "id": "e03d92df",
   "metadata": {},
   "outputs": [
    {
     "name": "stdout",
     "output_type": "stream",
     "text": [
      "False\n"
     ]
    }
   ],
   "source": [
    "print(not b < c)"
   ]
  },
  {
   "cell_type": "code",
   "execution_count": 24,
   "id": "ecfa30af",
   "metadata": {},
   "outputs": [
    {
     "name": "stdout",
     "output_type": "stream",
     "text": [
      "True\n"
     ]
    }
   ],
   "source": [
    "print(c == d)"
   ]
  },
  {
   "cell_type": "code",
   "execution_count": 25,
   "id": "4689b340",
   "metadata": {},
   "outputs": [
    {
     "name": "stdout",
     "output_type": "stream",
     "text": [
      "False\n"
     ]
    }
   ],
   "source": [
    "print(c != d)"
   ]
  },
  {
   "cell_type": "markdown",
   "id": "7288052a",
   "metadata": {},
   "source": [
    "# List"
   ]
  },
  {
   "cell_type": "code",
   "execution_count": 7,
   "id": "7048c948",
   "metadata": {},
   "outputs": [
    {
     "name": "stdout",
     "output_type": "stream",
     "text": [
      "[1]\n"
     ]
    }
   ],
   "source": [
    "a = []\n",
    "a.insert(0,1)\n",
    "print(a)"
   ]
  },
  {
   "cell_type": "code",
   "execution_count": 27,
   "id": "d7079728",
   "metadata": {},
   "outputs": [
    {
     "name": "stdout",
     "output_type": "stream",
     "text": [
      "[1, 2]\n"
     ]
    }
   ],
   "source": [
    "a.append(1)\n",
    "a.append(2)\n",
    "print(a)"
   ]
  },
  {
   "cell_type": "code",
   "execution_count": 28,
   "id": "40fee2b1",
   "metadata": {},
   "outputs": [
    {
     "name": "stdout",
     "output_type": "stream",
     "text": [
      "[3, 4, 5]\n"
     ]
    }
   ],
   "source": [
    "b = [3, 4, 5]\n",
    "print(b)"
   ]
  },
  {
   "cell_type": "code",
   "execution_count": 29,
   "id": "8bfc1fe0",
   "metadata": {},
   "outputs": [
    {
     "name": "stdout",
     "output_type": "stream",
     "text": [
      "[1, 2, 3, 4, 5]\n"
     ]
    }
   ],
   "source": [
    "c = a + b\n",
    "print(c)"
   ]
  },
  {
   "cell_type": "code",
   "execution_count": 30,
   "id": "f5f7157f",
   "metadata": {},
   "outputs": [
    {
     "name": "stdout",
     "output_type": "stream",
     "text": [
      "c[0] is 1, c[1] is 2, c[-1] is 5, summation of c is 15\n"
     ]
    }
   ],
   "source": [
    "print('c[0] is %d, c[1] is %d, c[-1] is %d, summation of c is %d' % (c[0], c[1], c[-1], sum(c)))"
   ]
  },
  {
   "cell_type": "code",
   "execution_count": 31,
   "id": "789e5997",
   "metadata": {},
   "outputs": [
    {
     "name": "stdout",
     "output_type": "stream",
     "text": [
      "[1, 2, 3, 5]\n"
     ]
    }
   ],
   "source": [
    "c.pop(3)\n",
    "print(c)"
   ]
  },
  {
   "cell_type": "code",
   "execution_count": 32,
   "id": "1f1f163c",
   "metadata": {},
   "outputs": [
    {
     "name": "stdout",
     "output_type": "stream",
     "text": [
      "[1, 2, 3]\n"
     ]
    }
   ],
   "source": [
    "c.pop(-1)\n",
    "print(c)"
   ]
  },
  {
   "cell_type": "code",
   "execution_count": 33,
   "id": "1a6495a3",
   "metadata": {},
   "outputs": [
    {
     "name": "stdout",
     "output_type": "stream",
     "text": [
      "3\n"
     ]
    }
   ],
   "source": [
    "print(len(c))"
   ]
  },
  {
   "cell_type": "markdown",
   "id": "25cb1bb2",
   "metadata": {},
   "source": [
    "# Dictionary"
   ]
  },
  {
   "cell_type": "code",
   "execution_count": 34,
   "id": "e7f33469",
   "metadata": {},
   "outputs": [],
   "source": [
    "a = {}"
   ]
  },
  {
   "cell_type": "code",
   "execution_count": 35,
   "id": "d12e1ce6",
   "metadata": {},
   "outputs": [
    {
     "name": "stdout",
     "output_type": "stream",
     "text": [
      "{'x': 1}\n"
     ]
    }
   ],
   "source": [
    "a['x'] = 1\n",
    "print(a)"
   ]
  },
  {
   "cell_type": "code",
   "execution_count": 36,
   "id": "46b89011",
   "metadata": {},
   "outputs": [
    {
     "name": "stdout",
     "output_type": "stream",
     "text": [
      "{'x': 1, 'y': 2}\n"
     ]
    }
   ],
   "source": [
    "a['y'] = 2\n",
    "print(a)"
   ]
  },
  {
   "cell_type": "code",
   "execution_count": 37,
   "id": "0fe0ea32",
   "metadata": {},
   "outputs": [
    {
     "name": "stdout",
     "output_type": "stream",
     "text": [
      "{'x': 999, 'y': 2}\n"
     ]
    }
   ],
   "source": [
    "a['x'] = 999\n",
    "print(a)"
   ]
  },
  {
   "cell_type": "code",
   "execution_count": 38,
   "id": "26eaf87b",
   "metadata": {},
   "outputs": [
    {
     "name": "stdout",
     "output_type": "stream",
     "text": [
      "The value of x is 999\n"
     ]
    }
   ],
   "source": [
    "print('The value of x is %d' % a['x'])"
   ]
  },
  {
   "cell_type": "markdown",
   "id": "65e1f9c1",
   "metadata": {},
   "source": [
    "# if-else"
   ]
  },
  {
   "cell_type": "code",
   "execution_count": 2,
   "id": "516dd1b0",
   "metadata": {},
   "outputs": [],
   "source": [
    "a = 1\n",
    "b = 2"
   ]
  },
  {
   "cell_type": "code",
   "execution_count": 3,
   "id": "e58dcad5",
   "metadata": {},
   "outputs": [
    {
     "name": "stdout",
     "output_type": "stream",
     "text": [
      "Hey! a is 1\n"
     ]
    }
   ],
   "source": [
    "# if\n",
    "if a == 1:\n",
    "    print('Hey! a is 1')\n",
    "    \n",
    "if b == 1:\n",
    "    print('Hey! b is 1')"
   ]
  },
  {
   "cell_type": "code",
   "execution_count": 41,
   "id": "4b1a6618",
   "metadata": {},
   "outputs": [
    {
     "name": "stdout",
     "output_type": "stream",
     "text": [
      "a is an odd number\n"
     ]
    }
   ],
   "source": [
    "# if-else\n",
    "if a % 2 == 0:\n",
    "    print('a is an even number')\n",
    "else:\n",
    "    print('a is an odd number')"
   ]
  },
  {
   "cell_type": "code",
   "execution_count": 42,
   "id": "9ebb9a66",
   "metadata": {},
   "outputs": [
    {
     "name": "stdout",
     "output_type": "stream",
     "text": [
      "a < b\n"
     ]
    }
   ],
   "source": [
    "# if-elif-else\n",
    "if a > b:\n",
    "    print('a > b')\n",
    "elif a < b:\n",
    "    print('a < b')\n",
    "else:\n",
    "    print('a == b')"
   ]
  },
  {
   "cell_type": "code",
   "execution_count": 43,
   "id": "2649f77b",
   "metadata": {},
   "outputs": [
    {
     "name": "stdout",
     "output_type": "stream",
     "text": [
      "a < b\n"
     ]
    }
   ],
   "source": [
    "# if-elif\n",
    "if a > b:\n",
    "    print('a > b')\n",
    "elif a < b:\n",
    "    print('a < b')"
   ]
  },
  {
   "cell_type": "code",
   "execution_count": 44,
   "id": "3aa69e77",
   "metadata": {},
   "outputs": [
    {
     "name": "stdout",
     "output_type": "stream",
     "text": [
      "a < b\n"
     ]
    }
   ],
   "source": [
    "# nested if-else\n",
    "if a != b:\n",
    "    if a < b:\n",
    "        print('a < b')\n",
    "    else:\n",
    "        print('a > b')\n",
    "else:\n",
    "    print('a == b')"
   ]
  },
  {
   "cell_type": "markdown",
   "id": "85643ba1",
   "metadata": {},
   "source": [
    "# for"
   ]
  },
  {
   "cell_type": "code",
   "execution_count": 45,
   "id": "2d9f0964",
   "metadata": {},
   "outputs": [
    {
     "name": "stdout",
     "output_type": "stream",
     "text": [
      "100\n",
      "300\n",
      "500\n",
      "700\n",
      "900\n"
     ]
    }
   ],
   "source": [
    "a = [100, 300, 500, 700, 900]\n",
    "for item in a:\n",
    "    print(item)"
   ]
  },
  {
   "cell_type": "code",
   "execution_count": 46,
   "id": "091c45ff",
   "metadata": {},
   "outputs": [
    {
     "name": "stdout",
     "output_type": "stream",
     "text": [
      "0\n",
      "1\n",
      "2\n",
      "3\n",
      "4\n"
     ]
    }
   ],
   "source": [
    "for i in range(5):\n",
    "    print(i)"
   ]
  },
  {
   "cell_type": "code",
   "execution_count": 47,
   "id": "8906f4eb",
   "metadata": {},
   "outputs": [
    {
     "name": "stdout",
     "output_type": "stream",
     "text": [
      "1\n",
      "2\n",
      "3\n",
      "4\n"
     ]
    }
   ],
   "source": [
    "for i in range(1, 5):\n",
    "    print(i)"
   ]
  },
  {
   "cell_type": "code",
   "execution_count": 48,
   "id": "6f0a0fbe",
   "metadata": {},
   "outputs": [
    {
     "name": "stdout",
     "output_type": "stream",
     "text": [
      "100\n",
      "300\n",
      "500\n",
      "700\n",
      "900\n"
     ]
    }
   ],
   "source": [
    "for i in range(100, 1000, 200):\n",
    "    print(i)"
   ]
  },
  {
   "cell_type": "markdown",
   "id": "6fad5ef9",
   "metadata": {},
   "source": [
    "# while"
   ]
  },
  {
   "cell_type": "code",
   "execution_count": 49,
   "id": "0d8de152",
   "metadata": {},
   "outputs": [
    {
     "name": "stdout",
     "output_type": "stream",
     "text": [
      "5050\n"
     ]
    }
   ],
   "source": [
    "i = 1\n",
    "ans = 0\n",
    "while i <= 100:\n",
    "    ans = ans + i\n",
    "    i = i + 1\n",
    "print(ans)"
   ]
  },
  {
   "cell_type": "markdown",
   "id": "47f9038e",
   "metadata": {},
   "source": [
    "# Function"
   ]
  },
  {
   "cell_type": "code",
   "execution_count": 50,
   "id": "51964fb5",
   "metadata": {},
   "outputs": [],
   "source": [
    "def cumsum(n):\n",
    "    i = 0\n",
    "    ans = 0\n",
    "    while i <= n:\n",
    "        ans = ans + i\n",
    "        i = i + 1\n",
    "    return ans"
   ]
  },
  {
   "cell_type": "code",
   "execution_count": 51,
   "id": "69ff32f6",
   "metadata": {},
   "outputs": [
    {
     "name": "stdout",
     "output_type": "stream",
     "text": [
      "5050\n",
      "55\n"
     ]
    }
   ],
   "source": [
    "print(cumsum(100))\n",
    "a = 10\n",
    "print(cumsum(n=a))"
   ]
  },
  {
   "cell_type": "code",
   "execution_count": 52,
   "id": "d7704af8",
   "metadata": {},
   "outputs": [],
   "source": [
    "def count(arr, tgt):\n",
    "    cnt = 0\n",
    "    for item in arr:\n",
    "        if item == tgt:\n",
    "            cnt = cnt + 1\n",
    "    return cnt"
   ]
  },
  {
   "cell_type": "code",
   "execution_count": 53,
   "id": "84b829a7",
   "metadata": {},
   "outputs": [
    {
     "name": "stdout",
     "output_type": "stream",
     "text": [
      "2\n",
      "5\n"
     ]
    }
   ],
   "source": [
    "print(count([1, 2, 1, 3, 8], 1))\n",
    "my_tgt = 3\n",
    "my_arr = [3, 3, 3, 3, 3]\n",
    "print(count(tgt=my_tgt, arr=my_arr))"
   ]
  },
  {
   "cell_type": "markdown",
   "id": "45c84976",
   "metadata": {},
   "source": [
    "# Import"
   ]
  },
  {
   "cell_type": "code",
   "execution_count": 54,
   "id": "d177704a",
   "metadata": {},
   "outputs": [
    {
     "name": "stdout",
     "output_type": "stream",
     "text": [
      "I Love Python!\n"
     ]
    }
   ],
   "source": [
    "from my_test import my_print\n",
    "my_print('I Love Python!')"
   ]
  },
  {
   "cell_type": "code",
   "execution_count": 55,
   "id": "7b6c452a",
   "metadata": {},
   "outputs": [
    {
     "name": "stdout",
     "output_type": "stream",
     "text": [
      "I Love Python!\n"
     ]
    }
   ],
   "source": [
    "import my_test\n",
    "my_test.my_print('I Love Python!')"
   ]
  },
  {
   "cell_type": "code",
   "execution_count": 56,
   "id": "bc0a78a8",
   "metadata": {},
   "outputs": [
    {
     "name": "stdout",
     "output_type": "stream",
     "text": [
      "I Love Python!\n"
     ]
    }
   ],
   "source": [
    "from my_test import my_print as mp\n",
    "mp('I Love Python!')"
   ]
  },
  {
   "cell_type": "code",
   "execution_count": 57,
   "id": "07cbe4ab",
   "metadata": {},
   "outputs": [
    {
     "name": "stdout",
     "output_type": "stream",
     "text": [
      "I Love Python!\n"
     ]
    }
   ],
   "source": [
    "import my_test as mt\n",
    "mt.my_print('I Love Python!')"
   ]
  },
  {
   "cell_type": "code",
   "execution_count": 58,
   "id": "12026399",
   "metadata": {},
   "outputs": [
    {
     "name": "stdout",
     "output_type": "stream",
     "text": [
      "Correct answer! You will get 5 marks\n"
     ]
    }
   ],
   "source": [
    "from A1234567X import A1_A1234567X as grading\n",
    "\n",
    "\n",
    "def reference(a, b):\n",
    "    c = a + b\n",
    "    return c\n",
    "\n",
    "\n",
    "x = 1.7\n",
    "y = 1.8\n",
    "ans_grading = grading(x, y)\n",
    "ans_reference = reference(x, y)\n",
    "if abs(ans_grading - ans_reference) < 0.0001:\n",
    "    print('Correct answer! You will get 5 marks')\n",
    "else:\n",
    "    print('Wrong answer! You will get 0 marks')"
   ]
  },
  {
   "cell_type": "markdown",
   "id": "27626aef",
   "metadata": {},
   "source": [
    "# Excercise\n",
    "1. Write a function to compute n! and print the answer of 11!\n",
    "2. Write a function to compute the n-th term of Fibonacci sequence and print the answer of the 20th term \n",
    "\n",
    "Try using both for and while"
   ]
  }
 ],
 "metadata": {
  "kernelspec": {
   "display_name": "Python 3 (ipykernel)",
   "language": "python",
   "name": "python3"
  },
  "language_info": {
   "codemirror_mode": {
    "name": "ipython",
    "version": 3
   },
   "file_extension": ".py",
   "mimetype": "text/x-python",
   "name": "python",
   "nbconvert_exporter": "python",
   "pygments_lexer": "ipython3",
   "version": "3.11.4"
  }
 },
 "nbformat": 4,
 "nbformat_minor": 5
}
